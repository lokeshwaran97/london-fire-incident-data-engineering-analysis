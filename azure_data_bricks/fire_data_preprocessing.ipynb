{
 "cells": [
  {
   "cell_type": "code",
   "execution_count": 0,
   "metadata": {
    "application/vnd.databricks.v1+cell": {
     "cellMetadata": {},
     "inputWidgets": {},
     "nuid": "94295069-9122-4bc6-a213-9c94de4f05b7",
     "showTitle": false,
     "title": ""
    }
   },
   "outputs": [],
   "source": [
    "dbutils.fs.mount(\n",
    "       source = \"wasbs://firedataraw@firesncidentstorage.blob.core.windows.net\",\n",
    "       mount_point = \"/mnt/data\",\n",
    "       extra_configs = {\"fs.azure.account.key.firesncidentstorage.blob.core.windows.net\":\"SrKWR/sqlz7NXM3mPnQxCQK0yIO+vEtDrniW1OQAhdKuEAbCBCmTaei/ne7duDflKIivlkabdaL9+AStSdciug==\"}\n",
    ")"
   ]
  },
  {
   "cell_type": "code",
   "execution_count": 0,
   "metadata": {
    "application/vnd.databricks.v1+cell": {
     "cellMetadata": {
      "byteLimit": 2048000,
      "rowLimit": 10000
     },
     "inputWidgets": {},
     "nuid": "2d2f69e2-1e7c-4bca-a7b2-ad8b1ecc1857",
     "showTitle": false,
     "title": ""
    }
   },
   "outputs": [
    {
     "output_type": "display_data",
     "data": {
      "text/html": [
       "<style scoped>\n",
       "  .table-result-container {\n",
       "    max-height: 300px;\n",
       "    overflow: auto;\n",
       "  }\n",
       "  table, th, td {\n",
       "    border: 1px solid black;\n",
       "    border-collapse: collapse;\n",
       "  }\n",
       "  th, td {\n",
       "    padding: 5px;\n",
       "  }\n",
       "  th {\n",
       "    text-align: left;\n",
       "  }\n",
       "</style><div class='table-result-container'><table class='table-result'><thead style='background-color: white'><tr><th>path</th><th>name</th><th>size</th><th>modificationTime</th></tr></thead><tbody><tr><td>dbfs:/mnt/data/processeddata/</td><td>processeddata/</td><td>0</td><td>0</td></tr><tr><td>dbfs:/mnt/data/sink/</td><td>sink/</td><td>0</td><td>0</td></tr></tbody></table></div>"
      ]
     },
     "metadata": {
      "application/vnd.databricks.v1+output": {
       "addedWidgets": {},
       "aggData": [],
       "aggError": "",
       "aggOverflow": false,
       "aggSchema": [],
       "aggSeriesLimitReached": false,
       "aggType": "",
       "arguments": {},
       "columnCustomDisplayInfos": {},
       "data": [
        [
         "dbfs:/mnt/data/processeddata/",
         "processeddata/",
         0,
         0
        ],
        [
         "dbfs:/mnt/data/sink/",
         "sink/",
         0,
         0
        ]
       ],
       "datasetInfos": [],
       "dbfsResultPath": null,
       "isJsonSchema": true,
       "metadata": {
        "isDbfsCommandResult": false
       },
       "overflow": false,
       "plotOptions": {
        "customPlotOptions": {},
        "displayType": "table",
        "pivotAggregation": null,
        "pivotColumns": null,
        "xColumns": null,
        "yColumns": null
       },
       "removedWidgets": [],
       "schema": [
        {
         "metadata": "{}",
         "name": "path",
         "type": "\"string\""
        },
        {
         "metadata": "{}",
         "name": "name",
         "type": "\"string\""
        },
        {
         "metadata": "{}",
         "name": "size",
         "type": "\"long\""
        },
        {
         "metadata": "{}",
         "name": "modificationTime",
         "type": "\"long\""
        }
       ],
       "type": "table"
      }
     },
     "output_type": "display_data"
    }
   ],
   "source": [
    "%fs\n",
    "ls \"/mnt/data\""
   ]
  },
  {
   "cell_type": "code",
   "execution_count": 0,
   "metadata": {
    "application/vnd.databricks.v1+cell": {
     "cellMetadata": {
      "byteLimit": 2048000,
      "rowLimit": 10000
     },
     "inputWidgets": {},
     "nuid": "56a85321-2357-43ec-a74e-5be45cd38a92",
     "showTitle": false,
     "title": ""
    }
   },
   "outputs": [
    {
     "output_type": "display_data",
     "data": {
      "text/html": [
       "<style scoped>\n",
       "  .table-result-container {\n",
       "    max-height: 300px;\n",
       "    overflow: auto;\n",
       "  }\n",
       "  table, th, td {\n",
       "    border: 1px solid black;\n",
       "    border-collapse: collapse;\n",
       "  }\n",
       "  th, td {\n",
       "    padding: 5px;\n",
       "  }\n",
       "  th {\n",
       "    text-align: left;\n",
       "  }\n",
       "</style><div class='table-result-container'><table class='table-result'><thead style='background-color: white'><tr><th>path</th><th>name</th><th>size</th><th>modificationTime</th></tr></thead><tbody><tr><td>dbfs:/mnt/data/sink/fire_incident.csv</td><td>fire_incident.csv</td><td>328582222</td><td>1708779341000</td></tr></tbody></table></div>"
      ]
     },
     "metadata": {
      "application/vnd.databricks.v1+output": {
       "addedWidgets": {},
       "aggData": [],
       "aggError": "",
       "aggOverflow": false,
       "aggSchema": [],
       "aggSeriesLimitReached": false,
       "aggType": "",
       "arguments": {},
       "columnCustomDisplayInfos": {},
       "data": [
        [
         "dbfs:/mnt/data/sink/fire_incident.csv",
         "fire_incident.csv",
         328582222,
         1708779341000
        ]
       ],
       "datasetInfos": [],
       "dbfsResultPath": null,
       "isJsonSchema": true,
       "metadata": {
        "isDbfsCommandResult": false
       },
       "overflow": false,
       "plotOptions": {
        "customPlotOptions": {},
        "displayType": "table",
        "pivotAggregation": null,
        "pivotColumns": null,
        "xColumns": null,
        "yColumns": null
       },
       "removedWidgets": [],
       "schema": [
        {
         "metadata": "{}",
         "name": "path",
         "type": "\"string\""
        },
        {
         "metadata": "{}",
         "name": "name",
         "type": "\"string\""
        },
        {
         "metadata": "{}",
         "name": "size",
         "type": "\"long\""
        },
        {
         "metadata": "{}",
         "name": "modificationTime",
         "type": "\"long\""
        }
       ],
       "type": "table"
      }
     },
     "output_type": "display_data"
    }
   ],
   "source": [
    "%fs\n",
    "ls \"/mnt/data/sink\""
   ]
  },
  {
   "cell_type": "code",
   "execution_count": 0,
   "metadata": {
    "application/vnd.databricks.v1+cell": {
     "cellMetadata": {
      "byteLimit": 2048000,
      "rowLimit": 10000
     },
     "inputWidgets": {},
     "nuid": "6d9bdced-0e21-45be-984e-de427148b6b5",
     "showTitle": false,
     "title": ""
    }
   },
   "outputs": [],
   "source": [
    "from pyspark.sql import functions as F\n",
    "from pyspark.sql import types as T"
   ]
  },
  {
   "cell_type": "code",
   "execution_count": 0,
   "metadata": {
    "application/vnd.databricks.v1+cell": {
     "cellMetadata": {
      "byteLimit": 2048000,
      "rowLimit": 10000
     },
     "inputWidgets": {},
     "nuid": "852dac70-17e7-4953-ae06-e8ede3ede790",
     "showTitle": false,
     "title": ""
    }
   },
   "outputs": [],
   "source": [
    "df = spark.read.csv(\"/mnt/data/sink/fire_incident.csv\", inferSchema=True, header=True)"
   ]
  },
  {
   "cell_type": "code",
   "execution_count": 0,
   "metadata": {
    "application/vnd.databricks.v1+cell": {
     "cellMetadata": {
      "byteLimit": 2048000,
      "rowLimit": 10000
     },
     "inputWidgets": {},
     "nuid": "97785738-6c27-437d-826a-8c0777ae413f",
     "showTitle": false,
     "title": ""
    }
   },
   "outputs": [
    {
     "output_type": "stream",
     "name": "stdout",
     "output_type": "stream",
     "text": [
      "+--------------+----------+-------+-------------------+----------+---------------+-------------------+--------------------+----------------+--------------------+--------------------+-------------+-----------------+---------------+--------+------------------+------------------+----------+---------------+--------------------+--------------------+---------+----------+---------------+----------------+-----------+------------+------+---------------------+--------------------------------+-------------------------------------+---------------------------------+--------------------------------------+-----------------------------+-----------------+---------+------------------+-----------------+--------+\n|IncidentNumber|DateOfCall|CalYear|         TimeOfCall|HourOfCall|  IncidentGroup|StopCodeDescription|  SpecialServiceType|PropertyCategory|        PropertyType|    AddressQualifier|Postcode_full|Postcode_district|           UPRN|    USRN|IncGeo_BoroughCode|IncGeo_BoroughName|ProperCase|IncGeo_WardCode|     IncGeo_WardName|  IncGeo_WardNameNew|Easting_m|Northing_m|Easting_rounded|Northing_rounded|   Latitude|   Longitude|   FRS|IncidentStationGround|FirstPumpArriving_AttendanceTime|FirstPumpArriving_DeployedFromStation|SecondPumpArriving_AttendanceTime|SecondPumpArriving_DeployedFromStation|NumStationsWithPumpsAttending|NumPumpsAttending|PumpCount|PumpMinutesRounded|Notional Cost (£)|NumCalls|\n+--------------+----------+-------+-------------------+----------+---------------+-------------------+--------------------+----------------+--------------------+--------------------+-------------+-----------------+---------------+--------+------------------+------------------+----------+---------------+--------------------+--------------------+---------+----------+---------------+----------------+-----------+------------+------+---------------------+--------------------------------+-------------------------------------+---------------------------------+--------------------------------------+-----------------------------+-----------------+---------+------------------+-----------------+--------+\n|  235138081.00| 01-Jan-09|   2009|2024-02-25 00:00:37|         0|Special Service|    Special Service|                 RTC|    Road Vehicle|                Car |In street close t...|     SW11 4LB|             SW11|           NULL|    NULL|         E09000032|        WANDSWORTH|Wandsworth|      E05014010|      Battersea Park|      Battersea Park|   528652|    176830|         528650|          176850|51.47581173|-0.148894436|London|            Battersea|                             319|                            Battersea|                              342|                               Clapham|                            2|                2|        2|                60|              255|       1|\n|       1091.00| 01-Jan-09|   2009|2024-02-25 00:00:46|         0|Special Service|    Special Service|Assist other agen...|         Outdoor|Lake/pond/reservoir |Open land/water -...|      SE1 7SG|              SE1|           NULL|    NULL|         E09000022|           LAMBETH|   Lambeth|      E05014118|Waterloo & South ...|Waterloo & South ...|   530485|    179007|         530450|          179050|51.49495659| -0.12171203|London|              Lambeth|                            NULL|                                 NULL|                             NULL|                                  NULL|                         NULL|             NULL|        1|                60|              255|       1|\n|       2091.00| 01-Jan-09|   2009|2024-02-25 00:03:00|         0|           Fire|     Secondary Fire|                NULL|         Outdoor|Road surface/pave...|In street outside...|       N9 9EL|               N9|           NULL|    NULL|         E09000010|           ENFIELD|   Enfield|      E05013682|           Haselbury|           Haselbury|   533773|    194492|         533750|          194450|51.63334229|-0.068487965|London|             Edmonton|                             308|                             Edmonton|                             NULL|                                  NULL|                            1|                1|        1|                60|              255|       2|\n|       3091.00| 01-Jan-09|   2009|2024-02-25 00:04:27|         0|           Fire|     Secondary Fire|                NULL|         Outdoor|Domestic garden (...|On land associate...|     UB10 0DG|             UB10|100021491527.00|21401491|         E09000017|        HILLINGDON|Hillingdon|      E05013571|     Hillingdon East|     Hillingdon East|   507738|    182805|         507750|          182850|51.53388171|-0.448088609|London|           Hillingdon|                             210|                           Hillingdon|                             NULL|                                  NULL|                            1|                1|        1|                60|              255|       2|\n|       5091.00| 01-Jan-09|   2009|2024-02-25 00:05:39|         0|           Fire|     Secondary Fire|                NULL|         Outdoor|Cycle path/public...|In street outside...|       N7 8HG|               N7|           NULL|    NULL|         E09000019|         ISLINGTON| Islington|      E05013708|             Laycock|             Laycock|   531058|    185307|         531050|          185350|51.55144063|-0.111120228|London|             Holloway|                             233|                             Holloway|                              250|                              Holloway|                            1|                2|        2|                60|              255|       1|\n+--------------+----------+-------+-------------------+----------+---------------+-------------------+--------------------+----------------+--------------------+--------------------+-------------+-----------------+---------------+--------+------------------+------------------+----------+---------------+--------------------+--------------------+---------+----------+---------------+----------------+-----------+------------+------+---------------------+--------------------------------+-------------------------------------+---------------------------------+--------------------------------------+-----------------------------+-----------------+---------+------------------+-----------------+--------+\nonly showing top 5 rows\n\n"
     ]
    }
   ],
   "source": [
    "df.show(5)"
   ]
  },
  {
   "cell_type": "code",
   "execution_count": 0,
   "metadata": {
    "application/vnd.databricks.v1+cell": {
     "cellMetadata": {
      "byteLimit": 2048000,
      "rowLimit": 10000
     },
     "inputWidgets": {},
     "nuid": "f2e018db-406b-4fc8-84b9-0675b422200b",
     "showTitle": false,
     "title": ""
    }
   },
   "outputs": [
    {
     "output_type": "stream",
     "name": "stdout",
     "output_type": "stream",
     "text": [
      "root\n |-- IncidentNumber: string (nullable = true)\n |-- DateOfCall: string (nullable = true)\n |-- CalYear: integer (nullable = true)\n |-- TimeOfCall: timestamp (nullable = true)\n |-- HourOfCall: integer (nullable = true)\n |-- IncidentGroup: string (nullable = true)\n |-- StopCodeDescription: string (nullable = true)\n |-- SpecialServiceType: string (nullable = true)\n |-- PropertyCategory: string (nullable = true)\n |-- PropertyType: string (nullable = true)\n |-- AddressQualifier: string (nullable = true)\n |-- Postcode_full: string (nullable = true)\n |-- Postcode_district: string (nullable = true)\n |-- UPRN: string (nullable = true)\n |-- USRN: string (nullable = true)\n |-- IncGeo_BoroughCode: string (nullable = true)\n |-- IncGeo_BoroughName: string (nullable = true)\n |-- ProperCase: string (nullable = true)\n |-- IncGeo_WardCode: string (nullable = true)\n |-- IncGeo_WardName: string (nullable = true)\n |-- IncGeo_WardNameNew: string (nullable = true)\n |-- Easting_m: string (nullable = true)\n |-- Northing_m: string (nullable = true)\n |-- Easting_rounded: integer (nullable = true)\n |-- Northing_rounded: integer (nullable = true)\n |-- Latitude: string (nullable = true)\n |-- Longitude: string (nullable = true)\n |-- FRS: string (nullable = true)\n |-- IncidentStationGround: string (nullable = true)\n |-- FirstPumpArriving_AttendanceTime: string (nullable = true)\n |-- FirstPumpArriving_DeployedFromStation: string (nullable = true)\n |-- SecondPumpArriving_AttendanceTime: string (nullable = true)\n |-- SecondPumpArriving_DeployedFromStation: string (nullable = true)\n |-- NumStationsWithPumpsAttending: string (nullable = true)\n |-- NumPumpsAttending: string (nullable = true)\n |-- PumpCount: integer (nullable = true)\n |-- PumpMinutesRounded: integer (nullable = true)\n |-- Notional Cost (£): integer (nullable = true)\n |-- NumCalls: string (nullable = true)\n\n"
     ]
    }
   ],
   "source": [
    "df.printSchema()"
   ]
  },
  {
   "cell_type": "code",
   "execution_count": 0,
   "metadata": {
    "application/vnd.databricks.v1+cell": {
     "cellMetadata": {
      "byteLimit": 2048000,
      "rowLimit": 10000
     },
     "inputWidgets": {},
     "nuid": "5018d9b3-dce7-442a-b001-f819ede60194",
     "showTitle": false,
     "title": ""
    }
   },
   "outputs": [],
   "source": [
    "df = df.select([\"IncidentNumber\", \"CalYear\", \"DateOfCall\", \"HourOfCall\", \"IncidentGroup\", \"StopCodeDescription\", \"IncGeo_BoroughCode\",\n",
    "                \"IncGeo_BoroughName\", \"IncGeo_WardCode\", \"IncGeo_WardName\", \n",
    "                \"SpecialServiceType\", \"PropertyCategory\", \"PropertyType\", \"Postcode_district\",\n",
    "                 \"IncidentStationGround\", \"FirstPumpArriving_AttendanceTime\", \"FirstPumpArriving_DeployedFromStation\",\n",
    "                \"SecondPumpArriving_AttendanceTime\", \"SecondPumpArriving_DeployedFromStation\", \"NumStationsWithPumpsAttending\",\n",
    "                \"NumPumpsAttending\", \"PumpCount\", \"PumpMinutesRounded\", \"Notional Cost (£)\", \"NumCalls\"])"
   ]
  },
  {
   "cell_type": "code",
   "execution_count": 0,
   "metadata": {
    "application/vnd.databricks.v1+cell": {
     "cellMetadata": {
      "byteLimit": 2048000,
      "rowLimit": 10000
     },
     "inputWidgets": {},
     "nuid": "7a00d180-97fe-4841-8e0d-6ef367c1e9ac",
     "showTitle": false,
     "title": ""
    }
   },
   "outputs": [
    {
     "output_type": "stream",
     "name": "stdout",
     "output_type": "stream",
     "text": [
      "+--------------+-------+----------+----------+---------------+-------------------+------------------+------------------+---------------+--------------------+--------------------+----------------+--------------------+-----------------+---------------------+--------------------------------+-------------------------------------+---------------------------------+--------------------------------------+-----------------------------+-----------------+---------+------------------+-----------------+--------+\n|IncidentNumber|CalYear|DateOfCall|HourOfCall|  IncidentGroup|StopCodeDescription|IncGeo_BoroughCode|IncGeo_BoroughName|IncGeo_WardCode|     IncGeo_WardName|  SpecialServiceType|PropertyCategory|        PropertyType|Postcode_district|IncidentStationGround|FirstPumpArriving_AttendanceTime|FirstPumpArriving_DeployedFromStation|SecondPumpArriving_AttendanceTime|SecondPumpArriving_DeployedFromStation|NumStationsWithPumpsAttending|NumPumpsAttending|PumpCount|PumpMinutesRounded|Notional Cost (£)|NumCalls|\n+--------------+-------+----------+----------+---------------+-------------------+------------------+------------------+---------------+--------------------+--------------------+----------------+--------------------+-----------------+---------------------+--------------------------------+-------------------------------------+---------------------------------+--------------------------------------+-----------------------------+-----------------+---------+------------------+-----------------+--------+\n|  235138081.00|   2009| 01-Jan-09|         0|Special Service|    Special Service|         E09000032|        WANDSWORTH|      E05014010|      Battersea Park|                 RTC|    Road Vehicle|                Car |             SW11|            Battersea|                             319|                            Battersea|                              342|                               Clapham|                            2|                2|        2|                60|              255|       1|\n|       1091.00|   2009| 01-Jan-09|         0|Special Service|    Special Service|         E09000022|           LAMBETH|      E05014118|Waterloo & South ...|Assist other agen...|         Outdoor|Lake/pond/reservoir |              SE1|              Lambeth|                            NULL|                                 NULL|                             NULL|                                  NULL|                         NULL|             NULL|        1|                60|              255|       1|\n|       2091.00|   2009| 01-Jan-09|         0|           Fire|     Secondary Fire|         E09000010|           ENFIELD|      E05013682|           Haselbury|                NULL|         Outdoor|Road surface/pave...|               N9|             Edmonton|                             308|                             Edmonton|                             NULL|                                  NULL|                            1|                1|        1|                60|              255|       2|\n|       3091.00|   2009| 01-Jan-09|         0|           Fire|     Secondary Fire|         E09000017|        HILLINGDON|      E05013571|     Hillingdon East|                NULL|         Outdoor|Domestic garden (...|             UB10|           Hillingdon|                             210|                           Hillingdon|                             NULL|                                  NULL|                            1|                1|        1|                60|              255|       2|\n|       5091.00|   2009| 01-Jan-09|         0|           Fire|     Secondary Fire|         E09000019|         ISLINGTON|      E05013708|             Laycock|                NULL|         Outdoor|Cycle path/public...|               N7|             Holloway|                             233|                             Holloway|                              250|                              Holloway|                            1|                2|        2|                60|              255|       1|\n+--------------+-------+----------+----------+---------------+-------------------+------------------+------------------+---------------+--------------------+--------------------+----------------+--------------------+-----------------+---------------------+--------------------------------+-------------------------------------+---------------------------------+--------------------------------------+-----------------------------+-----------------+---------+------------------+-----------------+--------+\nonly showing top 5 rows\n\n"
     ]
    }
   ],
   "source": [
    "df.show(5)"
   ]
  },
  {
   "cell_type": "code",
   "execution_count": 0,
   "metadata": {
    "application/vnd.databricks.v1+cell": {
     "cellMetadata": {
      "byteLimit": 2048000,
      "rowLimit": 10000
     },
     "inputWidgets": {},
     "nuid": "1ff6f3a9-a277-4820-b865-07de554cb597",
     "showTitle": false,
     "title": ""
    }
   },
   "outputs": [],
   "source": [
    "df = df.withColumn(\"DateOfCall\", F.to_date(F.col(\"DateOfCall\"), \"dd-MMM-yy\")) \\\n",
    "     .withColumn(\"FirstPumpArriving_AttendanceTime\", F.col(\"FirstPumpArriving_AttendanceTime\").cast(T.IntegerType())) \\\n",
    "     .withColumn(\"SecondPumpArriving_AttendanceTime\", F.col(\"SecondPumpArriving_AttendanceTime\").cast(T.IntegerType())) \\\n",
    "     .withColumn(\"NumStationsWithPumpsAttending\", F.col(\"NumStationsWithPumpsAttending\").cast(T.IntegerType())) \\\n",
    "     .withColumn(\"NumPumpsAttending\", F.col(\"NumPumpsAttending\").cast(T.IntegerType())) \\\n",
    "     .withColumn(\"NumCalls\", F.col(\"NumCalls\").cast(T.IntegerType()))"
   ]
  },
  {
   "cell_type": "code",
   "execution_count": 0,
   "metadata": {
    "application/vnd.databricks.v1+cell": {
     "cellMetadata": {
      "byteLimit": 2048000,
      "rowLimit": 10000
     },
     "inputWidgets": {},
     "nuid": "efc9db76-4f19-413d-8bca-598423691625",
     "showTitle": false,
     "title": ""
    }
   },
   "outputs": [],
   "source": [
    "col_timestamp = []\n",
    "dtyp_col = []\n",
    "for c, dtyp in df.dtypes:\n",
    "    if dtyp == \"date\":\n",
    "        col_timestamp.append(c)\n",
    "    else:\n",
    "        dtyp_col.append(c)"
   ]
  },
  {
   "cell_type": "code",
   "execution_count": 0,
   "metadata": {
    "application/vnd.databricks.v1+cell": {
     "cellMetadata": {
      "byteLimit": 2048000,
      "rowLimit": 10000
     },
     "inputWidgets": {},
     "nuid": "0a512bbe-4ff6-4672-96f2-80459fafd141",
     "showTitle": false,
     "title": ""
    }
   },
   "outputs": [
    {
     "output_type": "stream",
     "name": "stdout",
     "output_type": "stream",
     "text": [
      "+--------------+-------+----------+-------------+-------------------+------------------+------------------+---------------+---------------+------------------+----------------+------------+-----------------+---------------------+--------------------------------+-------------------------------------+---------------------------------+--------------------------------------+-----------------------------+-----------------+---------+------------------+-----------------+--------+\n|IncidentNumber|CalYear|HourOfCall|IncidentGroup|StopCodeDescription|IncGeo_BoroughCode|IncGeo_BoroughName|IncGeo_WardCode|IncGeo_WardName|SpecialServiceType|PropertyCategory|PropertyType|Postcode_district|IncidentStationGround|FirstPumpArriving_AttendanceTime|FirstPumpArriving_DeployedFromStation|SecondPumpArriving_AttendanceTime|SecondPumpArriving_DeployedFromStation|NumStationsWithPumpsAttending|NumPumpsAttending|PumpCount|PumpMinutesRounded|Notional Cost (£)|NumCalls|\n+--------------+-------+----------+-------------+-------------------+------------------+------------------+---------------+---------------+------------------+----------------+------------+-----------------+---------------------+--------------------------------+-------------------------------------+---------------------------------+--------------------------------------+-----------------------------+-----------------+---------+------------------+-----------------+--------+\n|             0|      0|         0|            0|                  0|                 0|                 0|              0|              0|            689178|               0|           0|                0|                    0|                           91371|                                91372|                           641858|                                641858|                         5516|             5516|        0|                 0|                0|    1828|\n+--------------+-------+----------+-------------+-------------------+------------------+------------------+---------------+---------------+------------------+----------------+------------+-----------------+---------------------+--------------------------------+-------------------------------------+---------------------------------+--------------------------------------+-----------------------------+-----------------+---------+------------------+-----------------+--------+\n\n"
     ]
    }
   ],
   "source": [
    "df.select([F.count(F.when( F.col(c).isNull() | F.isnan(c) , c)).alias(c)  \n",
    "           for c in dtyp_col]).show()"
   ]
  },
  {
   "cell_type": "code",
   "execution_count": 0,
   "metadata": {
    "application/vnd.databricks.v1+cell": {
     "cellMetadata": {
      "byteLimit": 2048000,
      "rowLimit": 10000
     },
     "inputWidgets": {},
     "nuid": "77a707c8-8c6e-4bc5-a220-c542aef9b4a7",
     "showTitle": false,
     "title": ""
    }
   },
   "outputs": [
    {
     "output_type": "stream",
     "name": "stdout",
     "output_type": "stream",
     "text": [
      "+----------+\n|DateOfCall|\n+----------+\n|         0|\n+----------+\n\n"
     ]
    }
   ],
   "source": [
    "df.select([F.count(F.when( F.col(c).isNull() , c)).alias(c)  \n",
    "           for c in col_timestamp]).show()"
   ]
  },
  {
   "cell_type": "code",
   "execution_count": 0,
   "metadata": {
    "application/vnd.databricks.v1+cell": {
     "cellMetadata": {
      "byteLimit": 2048000,
      "rowLimit": 10000
     },
     "inputWidgets": {},
     "nuid": "a730a5e2-41dc-47c8-bf9a-c83dcb14b9f1",
     "showTitle": false,
     "title": ""
    }
   },
   "outputs": [],
   "source": [
    "from pyspark.sql import Window as w\n",
    "\n",
    "district_partition = w.partitionBy(F.col(\"Postcode_district\"))\n",
    "\n",
    "df_mod = df.withColumn(\"SpecialServiceType\", F.when(F.col(\"SpecialServiceType\").isNull(), \"Not a special service\").otherwise(F.col(\"SpecialServiceType\"))) \\\n",
    "            .withColumn(\"FirstPumpArriving_AttendanceTime\",F.when(F.col(\"FirstPumpArriving_AttendanceTime\").isNull() | F.isnan(\"FirstPumpArriving_AttendanceTime\"), F.avg(F.col(\"FirstPumpArriving_AttendanceTime\")).over(district_partition)).otherwise(F.col(\"FirstPumpArriving_AttendanceTime\"))) \\\n",
    "            .withColumn(\"FirstPumpArriving_DeployedFromStation\", F.when(F.col(\"FirstPumpArriving_DeployedFromStation\").isNull(), \"Not Known\").otherwise(F.col(\"FirstPumpArriving_DeployedFromStation\"))) \\\n",
    "            .withColumn(\"SecondPumpArriving_AttendanceTime\", F.when(F.col(\"SecondPumpArriving_AttendanceTime\").isNull() | F.isnan(\"SecondPumpArriving_AttendanceTime\"), F.avg(F.col(\"SecondPumpArriving_AttendanceTime\")).over(district_partition)).otherwise(F.col(\"SecondPumpArriving_AttendanceTime\"))) \\\n",
    "            .withColumn(\"SecondPumpArriving_DeployedFromStation\", F.when(F.col(\"SecondPumpArriving_DeployedFromStation\").isNull(), \"Not Known\").otherwise(F.col(\"SecondPumpArriving_DeployedFromStation\"))) \\\n",
    "            .withColumn(\"NumStationsWithPumpsAttending\", F.when(F.col(\"NumStationsWithPumpsAttending\").isNull() | F.isnan(\"NumStationsWithPumpsAttending\"), F.avg(F.col(\"NumStationsWithPumpsAttending\")).over(district_partition)).otherwise(F.col(\"NumStationsWithPumpsAttending\"))) \\\n",
    "            .withColumn(\"NumPumpsAttending\", F.when(F.col(\"NumPumpsAttending\").isNull() | F.isnan(\"NumPumpsAttending\"), F.avg(F.col(\"NumPumpsAttending\")).over(district_partition)).otherwise(F.col(\"NumPumpsAttending\"))) \\\n",
    "            .withColumn(\"NumCalls\", F.when(F.col(\"NumCalls\").isNull() | F.isnan(\"NumCalls\"), F.avg(F.col(\"NumCalls\")).over(district_partition)).otherwise(F.col(\"NumCalls\"))) "
   ]
  },
  {
   "cell_type": "code",
   "execution_count": 0,
   "metadata": {
    "application/vnd.databricks.v1+cell": {
     "cellMetadata": {
      "byteLimit": 2048000,
      "rowLimit": 10000
     },
     "inputWidgets": {},
     "nuid": "8a453591-a700-4445-a5f3-22797e270fb0",
     "showTitle": false,
     "title": ""
    }
   },
   "outputs": [
    {
     "output_type": "execute_result",
     "data": {
      "text/plain": [
       "['IncidentNumber',\n",
       " 'CalYear',\n",
       " 'DateOfCall',\n",
       " 'HourOfCall',\n",
       " 'IncidentGroup',\n",
       " 'StopCodeDescription',\n",
       " 'IncGeo_BoroughCode',\n",
       " 'IncGeo_BoroughName',\n",
       " 'IncGeo_WardCode',\n",
       " 'IncGeo_WardName',\n",
       " 'SpecialServiceType',\n",
       " 'PropertyCategory',\n",
       " 'PropertyType',\n",
       " 'Postcode_district',\n",
       " 'IncidentStationGround',\n",
       " 'FirstPumpArriving_AttendanceTime',\n",
       " 'FirstPumpArriving_DeployedFromStation',\n",
       " 'SecondPumpArriving_AttendanceTime',\n",
       " 'SecondPumpArriving_DeployedFromStation',\n",
       " 'NumStationsWithPumpsAttending',\n",
       " 'NumPumpsAttending',\n",
       " 'PumpCount',\n",
       " 'PumpMinutesRounded',\n",
       " 'Notional Cost (£)',\n",
       " 'NumCalls']"
      ]
     },
     "execution_count": 12,
     "metadata": {},
     "output_type": "execute_result"
    }
   ],
   "source": [
    "df_mod.columns"
   ]
  },
  {
   "cell_type": "code",
   "execution_count": 0,
   "metadata": {
    "application/vnd.databricks.v1+cell": {
     "cellMetadata": {
      "byteLimit": 2048000,
      "rowLimit": 10000
     },
     "inputWidgets": {},
     "nuid": "1b7b866a-04e4-4981-ac9a-31d10c889fa6",
     "showTitle": false,
     "title": ""
    }
   },
   "outputs": [],
   "source": [
    "fact_table_col = [\"IncidentNumber\", \"CalYear\", \"DateOfCall\", \"HourOfCall\", \"IncidentGroup\",\n",
    "              \"StopCodeDescription\", \"SpecialServiceType\", \"PropertyType\",\n",
    "              \"PropertyCategory\",\"Postcode_district\", \"IncGeo_WardName\", \"IncGeo_BoroughName\",\"IncGeo_BoroughCode\", \"IncGeo_WardCode\", \"IncidentStationGround\",\n",
    "              \"FirstPumpArriving_AttendanceTime\", \"FirstPumpArriving_DeployedFromStation\",\n",
    "              \"SecondPumpArriving_AttendanceTime\", \"SecondPumpArriving_DeployedFromStation\",\n",
    "              \"NumStationsWithPumpsAttending\", \"NumPumpsAttending\", \"PumpCount\",\n",
    "              \"PumpMinutesRounded\", \"Notional Cost (£)\", \"NumCalls\"]"
   ]
  },
  {
   "cell_type": "code",
   "execution_count": 0,
   "metadata": {
    "application/vnd.databricks.v1+cell": {
     "cellMetadata": {
      "byteLimit": 2048000,
      "rowLimit": 10000
     },
     "inputWidgets": {},
     "nuid": "9a466b9e-eb2e-45df-8b8d-f4b0243b52b8",
     "showTitle": false,
     "title": ""
    }
   },
   "outputs": [],
   "source": [
    "fact_table_df = df_mod.select(fact_table_col)"
   ]
  },
  {
   "cell_type": "code",
   "execution_count": 0,
   "metadata": {
    "application/vnd.databricks.v1+cell": {
     "cellMetadata": {
      "byteLimit": 2048000,
      "rowLimit": 10000
     },
     "inputWidgets": {},
     "nuid": "d00711ac-9679-422e-a352-beb168e808fd",
     "showTitle": false,
     "title": ""
    }
   },
   "outputs": [],
   "source": [
    "fact_table_df.repartition(1).write.option(\"header\",\"true\").option(\"mode\", \"overwrite\").csv(\"/mnt/data/processeddata/fire_incident\")"
   ]
  },
  {
   "cell_type": "code",
   "execution_count": 0,
   "metadata": {
    "application/vnd.databricks.v1+cell": {
     "cellMetadata": {
      "byteLimit": 2048000,
      "rowLimit": 10000
     },
     "inputWidgets": {},
     "nuid": "d2222e36-f7be-49b8-b4ae-3d30f77475e3",
     "showTitle": false,
     "title": ""
    }
   },
   "outputs": [
    {
     "output_type": "display_data",
     "data": {
      "text/html": [
       "<style scoped>\n",
       "  .table-result-container {\n",
       "    max-height: 300px;\n",
       "    overflow: auto;\n",
       "  }\n",
       "  table, th, td {\n",
       "    border: 1px solid black;\n",
       "    border-collapse: collapse;\n",
       "  }\n",
       "  th, td {\n",
       "    padding: 5px;\n",
       "  }\n",
       "  th {\n",
       "    text-align: left;\n",
       "  }\n",
       "</style><div class='table-result-container'><table class='table-result'><thead style='background-color: white'><tr><th>path</th><th>name</th><th>size</th><th>modificationTime</th></tr></thead><tbody><tr><td>dbfs:/mnt/data/processeddata/fire_incident/_SUCCESS</td><td>_SUCCESS</td><td>0</td><td>1708860486000</td></tr><tr><td>dbfs:/mnt/data/processeddata/fire_incident/_committed_193762442563937514</td><td>_committed_193762442563937514</td><td>111</td><td>1708860485000</td></tr><tr><td>dbfs:/mnt/data/processeddata/fire_incident/_started_193762442563937514</td><td>_started_193762442563937514</td><td>0</td><td>1708860477000</td></tr><tr><td>dbfs:/mnt/data/processeddata/fire_incident/part-00000-tid-193762442563937514-27eb4d9c-dea6-48ed-95f0-63658720d412-35-1-c000.csv</td><td>part-00000-tid-193762442563937514-27eb4d9c-dea6-48ed-95f0-63658720d412-35-1-c000.csv</td><td>224519281</td><td>1708860485000</td></tr></tbody></table></div>"
      ]
     },
     "metadata": {
      "application/vnd.databricks.v1+output": {
       "addedWidgets": {},
       "aggData": [],
       "aggError": "",
       "aggOverflow": false,
       "aggSchema": [],
       "aggSeriesLimitReached": false,
       "aggType": "",
       "arguments": {},
       "columnCustomDisplayInfos": {},
       "data": [
        [
         "dbfs:/mnt/data/processeddata/fire_incident/_SUCCESS",
         "_SUCCESS",
         0,
         1708860486000
        ],
        [
         "dbfs:/mnt/data/processeddata/fire_incident/_committed_193762442563937514",
         "_committed_193762442563937514",
         111,
         1708860485000
        ],
        [
         "dbfs:/mnt/data/processeddata/fire_incident/_started_193762442563937514",
         "_started_193762442563937514",
         0,
         1708860477000
        ],
        [
         "dbfs:/mnt/data/processeddata/fire_incident/part-00000-tid-193762442563937514-27eb4d9c-dea6-48ed-95f0-63658720d412-35-1-c000.csv",
         "part-00000-tid-193762442563937514-27eb4d9c-dea6-48ed-95f0-63658720d412-35-1-c000.csv",
         224519281,
         1708860485000
        ]
       ],
       "datasetInfos": [],
       "dbfsResultPath": null,
       "isJsonSchema": true,
       "metadata": {
        "isDbfsCommandResult": false
       },
       "overflow": false,
       "plotOptions": {
        "customPlotOptions": {},
        "displayType": "table",
        "pivotAggregation": null,
        "pivotColumns": null,
        "xColumns": null,
        "yColumns": null
       },
       "removedWidgets": [],
       "schema": [
        {
         "metadata": "{}",
         "name": "path",
         "type": "\"string\""
        },
        {
         "metadata": "{}",
         "name": "name",
         "type": "\"string\""
        },
        {
         "metadata": "{}",
         "name": "size",
         "type": "\"long\""
        },
        {
         "metadata": "{}",
         "name": "modificationTime",
         "type": "\"long\""
        }
       ],
       "type": "table"
      }
     },
     "output_type": "display_data"
    }
   ],
   "source": [
    "%fs\n",
    "ls /mnt/data/processeddata/fire_incident"
   ]
  },
  {
   "cell_type": "code",
   "execution_count": 0,
   "metadata": {
    "application/vnd.databricks.v1+cell": {
     "cellMetadata": {
      "byteLimit": 2048000,
      "rowLimit": 10000
     },
     "inputWidgets": {},
     "nuid": "548f2e89-9cad-4ff5-93fb-50caa0863b0e",
     "showTitle": false,
     "title": ""
    }
   },
   "outputs": [
    {
     "output_type": "stream",
     "name": "stdout",
     "output_type": "stream",
     "text": [
      "/mnt/data has been unmounted.\n"
     ]
    },
    {
     "output_type": "execute_result",
     "data": {
      "text/plain": [
       "True"
      ]
     },
     "execution_count": 1,
     "metadata": {},
     "output_type": "execute_result"
    }
   ],
   "source": [
    "dbutils.fs.unmount(\"/mnt/data\")"
   ]
  }
 ],
 "metadata": {
  "application/vnd.databricks.v1+notebook": {
   "dashboards": [],
   "language": "python",
   "notebookMetadata": {
    "mostRecentlyExecutedCommandWithImplicitDF": {
     "commandId": 740977513116008,
     "dataframes": [
      "_sqldf"
     ]
    },
    "pythonIndentUnit": 4
   },
   "notebookName": "fire_data_preprocessing",
   "widgets": {}
  }
 },
 "nbformat": 4,
 "nbformat_minor": 0
}
